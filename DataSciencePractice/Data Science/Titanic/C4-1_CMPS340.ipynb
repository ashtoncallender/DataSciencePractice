{
 "cells": [
  {
   "cell_type": "markdown",
   "metadata": {},
   "source": [
    "# <center>CHALLENGE 4.1<center>"
   ]
  },
  {
   "cell_type": "markdown",
   "metadata": {},
   "source": [
    "<p>Team Name: snake_case\n",
    "<p>Student Names: Ashton Callender, Brennan Slade\n",
    "<p>Student W#s:w0702457, w0735294"
   ]
  },
  {
   "cell_type": "markdown",
   "metadata": {},
   "source": [
    "## Instructions\n",
    "Use <b>generic</b> coding style unless hard-coded values are really necessary.<br>\n",
    "Your code must be efficient and use self-explanatory naming.<br>\n",
    "Use appropriate Python library methods for each task instead of using loops.<br>\n",
    "Run your entire code and save <b>BEFORE</b> submitting. Then, submit this <b>saved</b> copy."
   ]
  },
  {
   "cell_type": "markdown",
   "metadata": {},
   "source": [
    "## Definitions"
   ]
  },
  {
   "cell_type": "markdown",
   "metadata": {},
   "source": [
    "AGE_12   : Passengers with age in \\[1, 13)<br>\n",
    "AGE_TEEN : Passengers with age in \\[13, 20)<br>\n",
    "AGE_YOUNG: Passengers with age in \\[20, 31)<br>\n",
    "AGE_OTHER: Passengers with age >= 31"
   ]
  },
  {
   "cell_type": "markdown",
   "metadata": {
    "collapsed": true
   },
   "source": [
    "## Imports"
   ]
  },
  {
   "cell_type": "code",
   "execution_count": 2,
   "metadata": {},
   "outputs": [],
   "source": [
    "import pandas as pd"
   ]
  },
  {
   "cell_type": "markdown",
   "metadata": {},
   "source": [
    "## Loading Data"
   ]
  },
  {
   "cell_type": "markdown",
   "metadata": {
    "collapsed": true
   },
   "source": [
    "Load \"titanic.csv\" into the data frame object \"data\"</br>\n",
    "[train.csv](https://github.com/wesm/pydata-book/blob/2nd-edition/datasets/titanic/train.csv)"
   ]
  },
  {
   "cell_type": "code",
   "execution_count": 3,
   "metadata": {},
   "outputs": [
    {
     "data": {
      "text/html": [
       "<div>\n",
       "<style scoped>\n",
       "    .dataframe tbody tr th:only-of-type {\n",
       "        vertical-align: middle;\n",
       "    }\n",
       "\n",
       "    .dataframe tbody tr th {\n",
       "        vertical-align: top;\n",
       "    }\n",
       "\n",
       "    .dataframe thead th {\n",
       "        text-align: right;\n",
       "    }\n",
       "</style>\n",
       "<table border=\"1\" class=\"dataframe\">\n",
       "  <thead>\n",
       "    <tr style=\"text-align: right;\">\n",
       "      <th></th>\n",
       "      <th>PassengerId</th>\n",
       "      <th>Survived</th>\n",
       "      <th>Pclass</th>\n",
       "      <th>Name</th>\n",
       "      <th>Sex</th>\n",
       "      <th>Age</th>\n",
       "      <th>SibSp</th>\n",
       "      <th>Parch</th>\n",
       "      <th>Ticket</th>\n",
       "      <th>Fare</th>\n",
       "      <th>Cabin</th>\n",
       "      <th>Embarked</th>\n",
       "    </tr>\n",
       "  </thead>\n",
       "  <tbody>\n",
       "    <tr>\n",
       "      <th>0</th>\n",
       "      <td>1</td>\n",
       "      <td>0</td>\n",
       "      <td>3</td>\n",
       "      <td>Braund, Mr. Owen Harris</td>\n",
       "      <td>male</td>\n",
       "      <td>22.0</td>\n",
       "      <td>1</td>\n",
       "      <td>0</td>\n",
       "      <td>A/5 21171</td>\n",
       "      <td>7.2500</td>\n",
       "      <td>NaN</td>\n",
       "      <td>S</td>\n",
       "    </tr>\n",
       "    <tr>\n",
       "      <th>1</th>\n",
       "      <td>2</td>\n",
       "      <td>1</td>\n",
       "      <td>1</td>\n",
       "      <td>Cumings, Mrs. John Bradley (Florence Briggs Th...</td>\n",
       "      <td>female</td>\n",
       "      <td>38.0</td>\n",
       "      <td>1</td>\n",
       "      <td>0</td>\n",
       "      <td>PC 17599</td>\n",
       "      <td>71.2833</td>\n",
       "      <td>C85</td>\n",
       "      <td>C</td>\n",
       "    </tr>\n",
       "    <tr>\n",
       "      <th>2</th>\n",
       "      <td>3</td>\n",
       "      <td>1</td>\n",
       "      <td>3</td>\n",
       "      <td>Heikkinen, Miss. Laina</td>\n",
       "      <td>female</td>\n",
       "      <td>26.0</td>\n",
       "      <td>0</td>\n",
       "      <td>0</td>\n",
       "      <td>STON/O2. 3101282</td>\n",
       "      <td>7.9250</td>\n",
       "      <td>NaN</td>\n",
       "      <td>S</td>\n",
       "    </tr>\n",
       "    <tr>\n",
       "      <th>3</th>\n",
       "      <td>4</td>\n",
       "      <td>1</td>\n",
       "      <td>1</td>\n",
       "      <td>Futrelle, Mrs. Jacques Heath (Lily May Peel)</td>\n",
       "      <td>female</td>\n",
       "      <td>35.0</td>\n",
       "      <td>1</td>\n",
       "      <td>0</td>\n",
       "      <td>113803</td>\n",
       "      <td>53.1000</td>\n",
       "      <td>C123</td>\n",
       "      <td>S</td>\n",
       "    </tr>\n",
       "    <tr>\n",
       "      <th>4</th>\n",
       "      <td>5</td>\n",
       "      <td>0</td>\n",
       "      <td>3</td>\n",
       "      <td>Allen, Mr. William Henry</td>\n",
       "      <td>male</td>\n",
       "      <td>35.0</td>\n",
       "      <td>0</td>\n",
       "      <td>0</td>\n",
       "      <td>373450</td>\n",
       "      <td>8.0500</td>\n",
       "      <td>NaN</td>\n",
       "      <td>S</td>\n",
       "    </tr>\n",
       "    <tr>\n",
       "      <th>...</th>\n",
       "      <td>...</td>\n",
       "      <td>...</td>\n",
       "      <td>...</td>\n",
       "      <td>...</td>\n",
       "      <td>...</td>\n",
       "      <td>...</td>\n",
       "      <td>...</td>\n",
       "      <td>...</td>\n",
       "      <td>...</td>\n",
       "      <td>...</td>\n",
       "      <td>...</td>\n",
       "      <td>...</td>\n",
       "    </tr>\n",
       "    <tr>\n",
       "      <th>886</th>\n",
       "      <td>887</td>\n",
       "      <td>0</td>\n",
       "      <td>2</td>\n",
       "      <td>Montvila, Rev. Juozas</td>\n",
       "      <td>male</td>\n",
       "      <td>27.0</td>\n",
       "      <td>0</td>\n",
       "      <td>0</td>\n",
       "      <td>211536</td>\n",
       "      <td>13.0000</td>\n",
       "      <td>NaN</td>\n",
       "      <td>S</td>\n",
       "    </tr>\n",
       "    <tr>\n",
       "      <th>887</th>\n",
       "      <td>888</td>\n",
       "      <td>1</td>\n",
       "      <td>1</td>\n",
       "      <td>Graham, Miss. Margaret Edith</td>\n",
       "      <td>female</td>\n",
       "      <td>19.0</td>\n",
       "      <td>0</td>\n",
       "      <td>0</td>\n",
       "      <td>112053</td>\n",
       "      <td>30.0000</td>\n",
       "      <td>B42</td>\n",
       "      <td>S</td>\n",
       "    </tr>\n",
       "    <tr>\n",
       "      <th>888</th>\n",
       "      <td>889</td>\n",
       "      <td>0</td>\n",
       "      <td>3</td>\n",
       "      <td>Johnston, Miss. Catherine Helen \"Carrie\"</td>\n",
       "      <td>female</td>\n",
       "      <td>NaN</td>\n",
       "      <td>1</td>\n",
       "      <td>2</td>\n",
       "      <td>W./C. 6607</td>\n",
       "      <td>23.4500</td>\n",
       "      <td>NaN</td>\n",
       "      <td>S</td>\n",
       "    </tr>\n",
       "    <tr>\n",
       "      <th>889</th>\n",
       "      <td>890</td>\n",
       "      <td>1</td>\n",
       "      <td>1</td>\n",
       "      <td>Behr, Mr. Karl Howell</td>\n",
       "      <td>male</td>\n",
       "      <td>26.0</td>\n",
       "      <td>0</td>\n",
       "      <td>0</td>\n",
       "      <td>111369</td>\n",
       "      <td>30.0000</td>\n",
       "      <td>C148</td>\n",
       "      <td>C</td>\n",
       "    </tr>\n",
       "    <tr>\n",
       "      <th>890</th>\n",
       "      <td>891</td>\n",
       "      <td>0</td>\n",
       "      <td>3</td>\n",
       "      <td>Dooley, Mr. Patrick</td>\n",
       "      <td>male</td>\n",
       "      <td>32.0</td>\n",
       "      <td>0</td>\n",
       "      <td>0</td>\n",
       "      <td>370376</td>\n",
       "      <td>7.7500</td>\n",
       "      <td>NaN</td>\n",
       "      <td>Q</td>\n",
       "    </tr>\n",
       "  </tbody>\n",
       "</table>\n",
       "<p>891 rows × 12 columns</p>\n",
       "</div>"
      ],
      "text/plain": [
       "     PassengerId  Survived  Pclass  \\\n",
       "0              1         0       3   \n",
       "1              2         1       1   \n",
       "2              3         1       3   \n",
       "3              4         1       1   \n",
       "4              5         0       3   \n",
       "..           ...       ...     ...   \n",
       "886          887         0       2   \n",
       "887          888         1       1   \n",
       "888          889         0       3   \n",
       "889          890         1       1   \n",
       "890          891         0       3   \n",
       "\n",
       "                                                  Name     Sex   Age  SibSp  \\\n",
       "0                              Braund, Mr. Owen Harris    male  22.0      1   \n",
       "1    Cumings, Mrs. John Bradley (Florence Briggs Th...  female  38.0      1   \n",
       "2                               Heikkinen, Miss. Laina  female  26.0      0   \n",
       "3         Futrelle, Mrs. Jacques Heath (Lily May Peel)  female  35.0      1   \n",
       "4                             Allen, Mr. William Henry    male  35.0      0   \n",
       "..                                                 ...     ...   ...    ...   \n",
       "886                              Montvila, Rev. Juozas    male  27.0      0   \n",
       "887                       Graham, Miss. Margaret Edith  female  19.0      0   \n",
       "888           Johnston, Miss. Catherine Helen \"Carrie\"  female   NaN      1   \n",
       "889                              Behr, Mr. Karl Howell    male  26.0      0   \n",
       "890                                Dooley, Mr. Patrick    male  32.0      0   \n",
       "\n",
       "     Parch            Ticket     Fare Cabin Embarked  \n",
       "0        0         A/5 21171   7.2500   NaN        S  \n",
       "1        0          PC 17599  71.2833   C85        C  \n",
       "2        0  STON/O2. 3101282   7.9250   NaN        S  \n",
       "3        0            113803  53.1000  C123        S  \n",
       "4        0            373450   8.0500   NaN        S  \n",
       "..     ...               ...      ...   ...      ...  \n",
       "886      0            211536  13.0000   NaN        S  \n",
       "887      0            112053  30.0000   B42        S  \n",
       "888      2        W./C. 6607  23.4500   NaN        S  \n",
       "889      0            111369  30.0000  C148        C  \n",
       "890      0            370376   7.7500   NaN        Q  \n",
       "\n",
       "[891 rows x 12 columns]"
      ]
     },
     "execution_count": 3,
     "metadata": {},
     "output_type": "execute_result"
    }
   ],
   "source": [
    "data = pd.read_csv(\"titanic.csv\")\n",
    "\n",
    "data"
   ]
  },
  {
   "cell_type": "markdown",
   "metadata": {},
   "source": [
    "## Calculate Counts"
   ]
  },
  {
   "cell_type": "markdown",
   "metadata": {},
   "source": [
    "Calculate joint counts for each {Survived_i, Age_j}, i = {Yes, No}, j = {_12, _Teen, _Young, _Other}:"
   ]
  },
  {
   "cell_type": "code",
   "execution_count": 4,
   "metadata": {
    "scrolled": true
   },
   "outputs": [
    {
     "name": "stdout",
     "output_type": "stream",
     "text": [
      "Survived_Yes: 290 \n",
      "Survived_No: 424 \n",
      "\n",
      "Age_12: 62 \n",
      "Age_Teen: 95 \n",
      "Age_Young 247 \n",
      "Age_Other: 303\n"
     ]
    },
    {
     "data": {
      "text/plain": [
       "Age         714\n",
       "Survived    714\n",
       "dtype: int64"
      ]
     },
     "execution_count": 4,
     "metadata": {},
     "output_type": "execute_result"
    }
   ],
   "source": [
    "#Clean Data for values that have no value for one of these columns\n",
    "#If not then the Totals for Ages and Survived would mismatch\n",
    "data = data[['Age', 'Survived']]\n",
    "data = data.dropna()\n",
    "\n",
    "#For Survival Counts\n",
    "Survived_Yes = len(data.query('Survived == 1'))\n",
    "Survived_No = len(data.query('Survived == 0'))\n",
    "\n",
    "#For Age counts\n",
    "Age_12 = len(data.query('Age >= 1 & Age <= 12'))\n",
    "\n",
    "Age_Teen = len(data.query('Age >= 13 & Age <= 19'))\n",
    "\n",
    "Age_Young = len(data.query('Age >= 20 & Age < 31'))\n",
    "\n",
    "Age_Other = len(data.query('Age >= 31'))\n",
    "\n",
    "\n",
    "print('Survived_Yes:', Survived_Yes, '\\nSurvived_No:', Survived_No, '\\n\\nAge_12:', Age_12, '\\nAge_Teen:', Age_Teen, '\\nAge_Young', Age_Young, '\\nAge_Other:', Age_Other)\n",
    "\n",
    "data.count()"
   ]
  },
  {
   "cell_type": "markdown",
   "metadata": {},
   "source": [
    "Calculate marginal counts for survive categories:"
   ]
  },
  {
   "cell_type": "code",
   "execution_count": 5,
   "metadata": {},
   "outputs": [
    {
     "name": "stdout",
     "output_type": "stream",
     "text": [
      "Survived_12_Yes: 33 \n",
      "Survived_12_No: 29 \n",
      "\n",
      "Survived_Teen_Yes 39 \n",
      "Survived_Teen_No 56 \n",
      "\n",
      "Survived_Young_Yes 87 \n",
      "Survived_Young_No 160 \n",
      "\n",
      "Survived_Other_Yes: 124 \n",
      "Survived_Other_No: 179\n"
     ]
    }
   ],
   "source": [
    "Survived_12_Yes = len(data.query('Age >= 1 & Age <= 12 & Survived == 1'))\n",
    "Survived_12_No = Age_12 - Survived_12_Yes\n",
    "\n",
    "Survived_Teen_Yes = len(data.query('Survived == 1 & Age >= 13 & Age <= 19'))\n",
    "Survived_Teen_No = Age_Teen - Survived_Teen_Yes\n",
    "\n",
    "Survived_Young_Yes = len(data.query('Survived == 1 & Age >= 20 & Age < 31'))\n",
    "Survived_Young_No = Age_Young - Survived_Young_Yes\n",
    "\n",
    "Survived_Other_Yes = len(data.query('Survived == 1 & Age >= 31'))\n",
    "Survived_Other_No = Age_Other - Survived_Other_Yes\n",
    "\n",
    "print('Survived_12_Yes:', Survived_12_Yes, '\\nSurvived_12_No:', Survived_12_No, '\\n\\nSurvived_Teen_Yes', Survived_Teen_Yes, '\\nSurvived_Teen_No', Survived_Teen_No, '\\n\\nSurvived_Young_Yes', Survived_Young_Yes, '\\nSurvived_Young_No', Survived_Young_No, '\\n\\nSurvived_Other_Yes:', Survived_Other_Yes,  '\\nSurvived_Other_No:', Survived_Other_No)"
   ]
  },
  {
   "cell_type": "markdown",
   "metadata": {},
   "source": [
    "Calculate marginal counts for age categories:"
   ]
  },
  {
   "cell_type": "code",
   "execution_count": null,
   "metadata": {},
   "outputs": [],
   "source": []
  },
  {
   "cell_type": "markdown",
   "metadata": {},
   "source": [
    "Calculate total count of samples:"
   ]
  },
  {
   "cell_type": "code",
   "execution_count": 6,
   "metadata": {},
   "outputs": [
    {
     "name": "stdout",
     "output_type": "stream",
     "text": [
      "Total People with Valid data: 714\n"
     ]
    }
   ],
   "source": [
    "Total = Survived_Yes + Survived_No\n",
    "print('Total People with Valid data:', Total)"
   ]
  },
  {
   "cell_type": "markdown",
   "metadata": {
    "collapsed": true
   },
   "source": [
    "Store all of the counts calculated above into the data frame \"Count\"<br>\n",
    ".    Column headers: Age categories and TOTAL<br>\n",
    ".    Row headers: survive categories, TOTAL<br>\n",
    "Print the object Count's content:"
   ]
  },
  {
   "cell_type": "code",
   "execution_count": 7,
   "metadata": {},
   "outputs": [
    {
     "data": {
      "text/html": [
       "<div>\n",
       "<style scoped>\n",
       "    .dataframe tbody tr th:only-of-type {\n",
       "        vertical-align: middle;\n",
       "    }\n",
       "\n",
       "    .dataframe tbody tr th {\n",
       "        vertical-align: top;\n",
       "    }\n",
       "\n",
       "    .dataframe thead th {\n",
       "        text-align: right;\n",
       "    }\n",
       "</style>\n",
       "<table border=\"1\" class=\"dataframe\">\n",
       "  <thead>\n",
       "    <tr style=\"text-align: right;\">\n",
       "      <th></th>\n",
       "      <th>Age_12</th>\n",
       "      <th>Age_Teen</th>\n",
       "      <th>Age_Young</th>\n",
       "      <th>Age_Other</th>\n",
       "      <th>Total</th>\n",
       "    </tr>\n",
       "  </thead>\n",
       "  <tbody>\n",
       "    <tr>\n",
       "      <th>Yes</th>\n",
       "      <td>33</td>\n",
       "      <td>39</td>\n",
       "      <td>87</td>\n",
       "      <td>124</td>\n",
       "      <td>290</td>\n",
       "    </tr>\n",
       "    <tr>\n",
       "      <th>No</th>\n",
       "      <td>29</td>\n",
       "      <td>56</td>\n",
       "      <td>160</td>\n",
       "      <td>179</td>\n",
       "      <td>424</td>\n",
       "    </tr>\n",
       "    <tr>\n",
       "      <th>Total</th>\n",
       "      <td>62</td>\n",
       "      <td>95</td>\n",
       "      <td>247</td>\n",
       "      <td>303</td>\n",
       "      <td>714</td>\n",
       "    </tr>\n",
       "  </tbody>\n",
       "</table>\n",
       "</div>"
      ],
      "text/plain": [
       "       Age_12  Age_Teen  Age_Young  Age_Other  Total\n",
       "Yes        33        39         87        124    290\n",
       "No         29        56        160        179    424\n",
       "Total      62        95        247        303    714"
      ]
     },
     "execution_count": 7,
     "metadata": {},
     "output_type": "execute_result"
    }
   ],
   "source": [
    "Count = pd.DataFrame([[Survived_12_Yes, Survived_Teen_Yes, Survived_Young_Yes, Survived_Other_Yes, Survived_Yes], \n",
    "                      [Survived_12_No, Survived_Teen_No, Survived_Young_No, Survived_Other_No, Survived_No], \n",
    "                      [Age_12, Age_Teen, Age_Young, Age_Other, Total]],\n",
    "                      columns=['Age_12', 'Age_Teen', 'Age_Young', 'Age_Other', 'Total'], \n",
    "                      index=['Yes', 'No', 'Total'])\n",
    "\n",
    "Count"
   ]
  },
  {
   "cell_type": "markdown",
   "metadata": {},
   "source": [
    "Save Counts into the text file \"Count.csv\" under the folder \"OUTPUT\".<br>\n",
    ".    Column headers: Age categories and TOTAL<br>\n",
    ".    Row headers: survive categories, TOTAL:"
   ]
  },
  {
   "cell_type": "code",
   "execution_count": 8,
   "metadata": {},
   "outputs": [],
   "source": [
    "Count.to_csv('OUTPUT/Count.csv')"
   ]
  },
  {
   "cell_type": "markdown",
   "metadata": {},
   "source": [
    "## Calculate Probabilities"
   ]
  },
  {
   "cell_type": "markdown",
   "metadata": {},
   "source": [
    "Generate the Probability Table T2- P() as described. Store into the data frame object \"P\". Print the object's content:"
   ]
  },
  {
   "cell_type": "code",
   "execution_count": 9,
   "metadata": {},
   "outputs": [
    {
     "data": {
      "text/html": [
       "<div>\n",
       "<style scoped>\n",
       "    .dataframe tbody tr th:only-of-type {\n",
       "        vertical-align: middle;\n",
       "    }\n",
       "\n",
       "    .dataframe tbody tr th {\n",
       "        vertical-align: top;\n",
       "    }\n",
       "\n",
       "    .dataframe thead th {\n",
       "        text-align: right;\n",
       "    }\n",
       "</style>\n",
       "<table border=\"1\" class=\"dataframe\">\n",
       "  <thead>\n",
       "    <tr style=\"text-align: right;\">\n",
       "      <th></th>\n",
       "      <th>Age_12</th>\n",
       "      <th>Age_Teen</th>\n",
       "      <th>Age_Young</th>\n",
       "      <th>Age_Other</th>\n",
       "      <th>Total</th>\n",
       "    </tr>\n",
       "  </thead>\n",
       "  <tbody>\n",
       "    <tr>\n",
       "      <th>Yes</th>\n",
       "      <td>0.046218</td>\n",
       "      <td>0.054622</td>\n",
       "      <td>0.121849</td>\n",
       "      <td>0.173669</td>\n",
       "      <td>0.406162</td>\n",
       "    </tr>\n",
       "    <tr>\n",
       "      <th>No</th>\n",
       "      <td>0.040616</td>\n",
       "      <td>0.078431</td>\n",
       "      <td>0.224090</td>\n",
       "      <td>0.250700</td>\n",
       "      <td>0.593838</td>\n",
       "    </tr>\n",
       "    <tr>\n",
       "      <th>Total</th>\n",
       "      <td>0.086835</td>\n",
       "      <td>0.133053</td>\n",
       "      <td>0.345938</td>\n",
       "      <td>0.424370</td>\n",
       "      <td>1.000000</td>\n",
       "    </tr>\n",
       "  </tbody>\n",
       "</table>\n",
       "</div>"
      ],
      "text/plain": [
       "         Age_12  Age_Teen  Age_Young  Age_Other     Total\n",
       "Yes    0.046218  0.054622   0.121849   0.173669  0.406162\n",
       "No     0.040616  0.078431   0.224090   0.250700  0.593838\n",
       "Total  0.086835  0.133053   0.345938   0.424370  1.000000"
      ]
     },
     "execution_count": 9,
     "metadata": {},
     "output_type": "execute_result"
    }
   ],
   "source": [
    "#P = pd.DataFrame(columns=['Age_12', 'Age_Teen', 'Age_Young', 'Age_Other', 'Total'], index=['Survived', 'Not Survived', 'Total'])\n",
    "#The probability that given a random person they fall into which group, like roulette betting\n",
    "P = Count.div(Total)\n",
    "P"
   ]
  },
  {
   "cell_type": "markdown",
   "metadata": {},
   "source": [
    "Generate the Probability Table T3_1- P(Survive | Age) as described. Store into the data frame object \"P_SgA\". Print the object's content:"
   ]
  },
  {
   "cell_type": "code",
   "execution_count": 19,
   "metadata": {},
   "outputs": [
    {
     "data": {
      "text/html": [
       "<div>\n",
       "<style scoped>\n",
       "    .dataframe tbody tr th:only-of-type {\n",
       "        vertical-align: middle;\n",
       "    }\n",
       "\n",
       "    .dataframe tbody tr th {\n",
       "        vertical-align: top;\n",
       "    }\n",
       "\n",
       "    .dataframe thead th {\n",
       "        text-align: right;\n",
       "    }\n",
       "</style>\n",
       "<table border=\"1\" class=\"dataframe\">\n",
       "  <thead>\n",
       "    <tr style=\"text-align: right;\">\n",
       "      <th></th>\n",
       "      <th>Age_12</th>\n",
       "      <th>Age_Teen</th>\n",
       "      <th>Age_Young</th>\n",
       "      <th>Age_Other</th>\n",
       "    </tr>\n",
       "  </thead>\n",
       "  <tbody>\n",
       "    <tr>\n",
       "      <th>Survived | Age</th>\n",
       "      <td>0.532258</td>\n",
       "      <td>0.410526</td>\n",
       "      <td>0.352227</td>\n",
       "      <td>0.409241</td>\n",
       "    </tr>\n",
       "    <tr>\n",
       "      <th>Not Survived | Age</th>\n",
       "      <td>0.467742</td>\n",
       "      <td>0.589474</td>\n",
       "      <td>0.647773</td>\n",
       "      <td>0.590759</td>\n",
       "    </tr>\n",
       "    <tr>\n",
       "      <th>Total</th>\n",
       "      <td>1.000000</td>\n",
       "      <td>1.000000</td>\n",
       "      <td>1.000000</td>\n",
       "      <td>1.000000</td>\n",
       "    </tr>\n",
       "  </tbody>\n",
       "</table>\n",
       "</div>"
      ],
      "text/plain": [
       "                      Age_12  Age_Teen  Age_Young  Age_Other\n",
       "Survived | Age      0.532258  0.410526   0.352227   0.409241\n",
       "Not Survived | Age  0.467742  0.589474   0.647773   0.590759\n",
       "Total               1.000000  1.000000   1.000000   1.000000"
      ]
     },
     "execution_count": 19,
     "metadata": {},
     "output_type": "execute_result"
    }
   ],
   "source": [
    "Total_Df = Count.loc['Total']\n",
    "P_SgA = pd.DataFrame([Count.loc['Yes'].div(Total_Df),\n",
    "                     Count.loc['No'].div(Total_Df),\n",
    "                     Count.loc['Total'].div(Total_Df)],\n",
    "                     index=['Survived | Age', 'Not Survived | Age', 'Total'])\n",
    "\n",
    "P_SgA = P_SgA.drop(columns=['Total'])\n",
    "P_SgA"
   ]
  },
  {
   "cell_type": "markdown",
   "metadata": {},
   "source": [
    "Generate the Probability Table T3_2- P(Survive | Age) P(Age) as described. Store into the data frame object \"P_SgA_A\". Print the object's content:"
   ]
  },
  {
   "cell_type": "code",
   "execution_count": 11,
   "metadata": {},
   "outputs": [],
   "source": [
    "#Last row of P df for storing\n",
    "Total_Probabilities_Ages_Df = P[-1:] \n",
    "\n",
    "Age_12_Prob = P_SgA[\"Age_12\"].mul(Total_Probabilities_Ages_Df.iloc[0,0])\n",
    "\n",
    "Age_Teen_Prob = P_SgA[\"Age_Teen\"].mul(Total_Probabilities_Ages_Df.iloc[0,1])\n",
    "\n",
    "Age_Young_Prob = P_SgA[\"Age_Young\"].mul(Total_Probabilities_Ages_Df.iloc[0,2])\n",
    "\n",
    "Age_Other_Prob = P_SgA[\"Age_Other\"].mul(Total_Probabilities_Ages_Df.iloc[0,3])\n",
    "\n",
    "#Total_Prob = P_SgA[\"Total\"].mul(Total_Probabilities_Ages_Df.iloc[0,4])\n",
    "\n",
    "#pd.DataFrame([Age_12_Prob, Age_Teen_Prob, Age_Young_Prob, Age_Other_Prob], index=['Survived | Age', 'Not Survived | Age', 'Total'])\n",
    "#Total_Prob"
   ]
  },
  {
   "cell_type": "markdown",
   "metadata": {},
   "source": [
    "Generate the Probability Table T4_1- P(Age | Survive) as described. Store into the data frame object \"P_AgS\". Print the object's content:"
   ]
  },
  {
   "cell_type": "code",
   "execution_count": 12,
   "metadata": {},
   "outputs": [
    {
     "data": {
      "text/html": [
       "<div>\n",
       "<style scoped>\n",
       "    .dataframe tbody tr th:only-of-type {\n",
       "        vertical-align: middle;\n",
       "    }\n",
       "\n",
       "    .dataframe tbody tr th {\n",
       "        vertical-align: top;\n",
       "    }\n",
       "\n",
       "    .dataframe thead th {\n",
       "        text-align: right;\n",
       "    }\n",
       "</style>\n",
       "<table border=\"1\" class=\"dataframe\">\n",
       "  <thead>\n",
       "    <tr style=\"text-align: right;\">\n",
       "      <th></th>\n",
       "      <th>Age_12</th>\n",
       "      <th>Age_Teen</th>\n",
       "      <th>Age_Young</th>\n",
       "      <th>Age_Other</th>\n",
       "      <th>Total</th>\n",
       "    </tr>\n",
       "  </thead>\n",
       "  <tbody>\n",
       "    <tr>\n",
       "      <th>Yes</th>\n",
       "      <td>0.113793</td>\n",
       "      <td>0.134483</td>\n",
       "      <td>0.300000</td>\n",
       "      <td>0.427586</td>\n",
       "      <td>1.0</td>\n",
       "    </tr>\n",
       "    <tr>\n",
       "      <th>No</th>\n",
       "      <td>0.068396</td>\n",
       "      <td>0.132075</td>\n",
       "      <td>0.377358</td>\n",
       "      <td>0.422170</td>\n",
       "      <td>1.0</td>\n",
       "    </tr>\n",
       "  </tbody>\n",
       "</table>\n",
       "</div>"
      ],
      "text/plain": [
       "       Age_12  Age_Teen  Age_Young  Age_Other  Total\n",
       "Yes  0.113793  0.134483   0.300000   0.427586    1.0\n",
       "No   0.068396  0.132075   0.377358   0.422170    1.0"
      ]
     },
     "execution_count": 12,
     "metadata": {},
     "output_type": "execute_result"
    }
   ],
   "source": [
    "P_AgS = Count.drop('Total')\n",
    "\n",
    "P_AgS = P_AgS.apply(lambda x: x / P_AgS.iloc[:,-1])\n",
    "P_AgS"
   ]
  },
  {
   "cell_type": "markdown",
   "metadata": {},
   "source": [
    "Generate the Probability Table T4_2- P(Age | Survive) P(Survive) as described. Store into the data frame object \"P_AgS_S\". Print the object's content:"
   ]
  },
  {
   "cell_type": "code",
   "execution_count": 13,
   "metadata": {},
   "outputs": [
    {
     "data": {
      "text/html": [
       "<div>\n",
       "<style scoped>\n",
       "    .dataframe tbody tr th:only-of-type {\n",
       "        vertical-align: middle;\n",
       "    }\n",
       "\n",
       "    .dataframe tbody tr th {\n",
       "        vertical-align: top;\n",
       "    }\n",
       "\n",
       "    .dataframe thead th {\n",
       "        text-align: right;\n",
       "    }\n",
       "</style>\n",
       "<table border=\"1\" class=\"dataframe\">\n",
       "  <thead>\n",
       "    <tr style=\"text-align: right;\">\n",
       "      <th></th>\n",
       "      <th>Age_12</th>\n",
       "      <th>Age_Teen</th>\n",
       "      <th>Age_Young</th>\n",
       "      <th>Age_Other</th>\n",
       "    </tr>\n",
       "  </thead>\n",
       "  <tbody>\n",
       "    <tr>\n",
       "      <th>Survived | Age</th>\n",
       "      <td>0.532258</td>\n",
       "      <td>0.410526</td>\n",
       "      <td>0.352227</td>\n",
       "      <td>0.409241</td>\n",
       "    </tr>\n",
       "    <tr>\n",
       "      <th>Not Survived | Age</th>\n",
       "      <td>0.467742</td>\n",
       "      <td>0.589474</td>\n",
       "      <td>0.647773</td>\n",
       "      <td>0.590759</td>\n",
       "    </tr>\n",
       "    <tr>\n",
       "      <th>Total</th>\n",
       "      <td>1.000000</td>\n",
       "      <td>1.000000</td>\n",
       "      <td>1.000000</td>\n",
       "      <td>1.000000</td>\n",
       "    </tr>\n",
       "  </tbody>\n",
       "</table>\n",
       "</div>"
      ],
      "text/plain": [
       "                      Age_12  Age_Teen  Age_Young  Age_Other\n",
       "Survived | Age      0.532258  0.410526   0.352227   0.409241\n",
       "Not Survived | Age  0.467742  0.589474   0.647773   0.590759\n",
       "Total               1.000000  1.000000   1.000000   1.000000"
      ]
     },
     "execution_count": 13,
     "metadata": {},
     "output_type": "execute_result"
    }
   ],
   "source": [
    "P_SgA\n",
    "#p_AgS_S = P_AgS.apply(lambda x: x *)"
   ]
  },
  {
   "cell_type": "markdown",
   "metadata": {
    "collapsed": true
   },
   "source": [
    "## Compare"
   ]
  },
  {
   "cell_type": "markdown",
   "metadata": {},
   "source": [
    "Compare the row TOTAL of T3_1- P(Survive | Age) with the row TOTAL of T2- P(). Explain:"
   ]
  },
  {
   "cell_type": "code",
   "execution_count": 14,
   "metadata": {
    "scrolled": true
   },
   "outputs": [
    {
     "data": {
      "text/html": [
       "<div>\n",
       "<style scoped>\n",
       "    .dataframe tbody tr th:only-of-type {\n",
       "        vertical-align: middle;\n",
       "    }\n",
       "\n",
       "    .dataframe tbody tr th {\n",
       "        vertical-align: top;\n",
       "    }\n",
       "\n",
       "    .dataframe thead th {\n",
       "        text-align: right;\n",
       "    }\n",
       "</style>\n",
       "<table border=\"1\" class=\"dataframe\">\n",
       "  <thead>\n",
       "    <tr style=\"text-align: right;\">\n",
       "      <th></th>\n",
       "      <th>Age_12</th>\n",
       "      <th>Age_Teen</th>\n",
       "      <th>Age_Young</th>\n",
       "      <th>Age_Other</th>\n",
       "      <th>Total</th>\n",
       "    </tr>\n",
       "  </thead>\n",
       "  <tbody>\n",
       "    <tr>\n",
       "      <th>Yes</th>\n",
       "      <td>0.046218</td>\n",
       "      <td>0.054622</td>\n",
       "      <td>0.121849</td>\n",
       "      <td>0.173669</td>\n",
       "      <td>0.406162</td>\n",
       "    </tr>\n",
       "    <tr>\n",
       "      <th>No</th>\n",
       "      <td>0.040616</td>\n",
       "      <td>0.078431</td>\n",
       "      <td>0.224090</td>\n",
       "      <td>0.250700</td>\n",
       "      <td>0.593838</td>\n",
       "    </tr>\n",
       "    <tr>\n",
       "      <th>Total</th>\n",
       "      <td>0.086835</td>\n",
       "      <td>0.133053</td>\n",
       "      <td>0.345938</td>\n",
       "      <td>0.424370</td>\n",
       "      <td>1.000000</td>\n",
       "    </tr>\n",
       "  </tbody>\n",
       "</table>\n",
       "</div>"
      ],
      "text/plain": [
       "         Age_12  Age_Teen  Age_Young  Age_Other     Total\n",
       "Yes    0.046218  0.054622   0.121849   0.173669  0.406162\n",
       "No     0.040616  0.078431   0.224090   0.250700  0.593838\n",
       "Total  0.086835  0.133053   0.345938   0.424370  1.000000"
      ]
     },
     "metadata": {},
     "output_type": "display_data"
    },
    {
     "data": {
      "text/html": [
       "<div>\n",
       "<style scoped>\n",
       "    .dataframe tbody tr th:only-of-type {\n",
       "        vertical-align: middle;\n",
       "    }\n",
       "\n",
       "    .dataframe tbody tr th {\n",
       "        vertical-align: top;\n",
       "    }\n",
       "\n",
       "    .dataframe thead th {\n",
       "        text-align: right;\n",
       "    }\n",
       "</style>\n",
       "<table border=\"1\" class=\"dataframe\">\n",
       "  <thead>\n",
       "    <tr style=\"text-align: right;\">\n",
       "      <th></th>\n",
       "      <th>Age_12</th>\n",
       "      <th>Age_Teen</th>\n",
       "      <th>Age_Young</th>\n",
       "      <th>Age_Other</th>\n",
       "    </tr>\n",
       "  </thead>\n",
       "  <tbody>\n",
       "    <tr>\n",
       "      <th>Survived | Age</th>\n",
       "      <td>0.532258</td>\n",
       "      <td>0.410526</td>\n",
       "      <td>0.352227</td>\n",
       "      <td>0.409241</td>\n",
       "    </tr>\n",
       "    <tr>\n",
       "      <th>Not Survived | Age</th>\n",
       "      <td>0.467742</td>\n",
       "      <td>0.589474</td>\n",
       "      <td>0.647773</td>\n",
       "      <td>0.590759</td>\n",
       "    </tr>\n",
       "    <tr>\n",
       "      <th>Total</th>\n",
       "      <td>1.000000</td>\n",
       "      <td>1.000000</td>\n",
       "      <td>1.000000</td>\n",
       "      <td>1.000000</td>\n",
       "    </tr>\n",
       "  </tbody>\n",
       "</table>\n",
       "</div>"
      ],
      "text/plain": [
       "                      Age_12  Age_Teen  Age_Young  Age_Other\n",
       "Survived | Age      0.532258  0.410526   0.352227   0.409241\n",
       "Not Survived | Age  0.467742  0.589474   0.647773   0.590759\n",
       "Total               1.000000  1.000000   1.000000   1.000000"
      ]
     },
     "metadata": {},
     "output_type": "display_data"
    }
   ],
   "source": [
    "display(P)\n",
    "display(P_SgA)\n",
    "#The row total in P_SgA shows that 100% of all people either Survived or Not Survived\n",
    "#The row total in P shows the probability that someone choosen at random would have Survived/Not Survived\n",
    "#in that Age_Group\n",
    "#The Total's for P show a different type of probability that is conditional on knowing the Age first and then\n",
    "#determining if they likely survived"
   ]
  },
  {
   "cell_type": "markdown",
   "metadata": {},
   "source": [
    "Compare the row TOTAL of T3_2- P(Survive | Age) P(Age) with the row TOTAL of T2- P(). Explain:"
   ]
  },
  {
   "cell_type": "code",
   "execution_count": 15,
   "metadata": {},
   "outputs": [],
   "source": [
    "#Since we multiply each age value with its respective probability, \n",
    "#we receive the original probability for each type. Therefore,\n",
    "#we find that T3_2 and T2 are equivalent."
   ]
  },
  {
   "cell_type": "markdown",
   "metadata": {},
   "source": [
    "Compare the column TOTAL of T4_1- P(Age | Survive) with the column TOTAL of T2- P(). Explain:"
   ]
  },
  {
   "cell_type": "code",
   "execution_count": 16,
   "metadata": {},
   "outputs": [
    {
     "data": {
      "text/html": [
       "<div>\n",
       "<style scoped>\n",
       "    .dataframe tbody tr th:only-of-type {\n",
       "        vertical-align: middle;\n",
       "    }\n",
       "\n",
       "    .dataframe tbody tr th {\n",
       "        vertical-align: top;\n",
       "    }\n",
       "\n",
       "    .dataframe thead th {\n",
       "        text-align: right;\n",
       "    }\n",
       "</style>\n",
       "<table border=\"1\" class=\"dataframe\">\n",
       "  <thead>\n",
       "    <tr style=\"text-align: right;\">\n",
       "      <th></th>\n",
       "      <th>Age_12</th>\n",
       "      <th>Age_Teen</th>\n",
       "      <th>Age_Young</th>\n",
       "      <th>Age_Other</th>\n",
       "      <th>Total</th>\n",
       "    </tr>\n",
       "  </thead>\n",
       "  <tbody>\n",
       "    <tr>\n",
       "      <th>Yes</th>\n",
       "      <td>0.046218</td>\n",
       "      <td>0.054622</td>\n",
       "      <td>0.121849</td>\n",
       "      <td>0.173669</td>\n",
       "      <td>0.406162</td>\n",
       "    </tr>\n",
       "    <tr>\n",
       "      <th>No</th>\n",
       "      <td>0.040616</td>\n",
       "      <td>0.078431</td>\n",
       "      <td>0.224090</td>\n",
       "      <td>0.250700</td>\n",
       "      <td>0.593838</td>\n",
       "    </tr>\n",
       "    <tr>\n",
       "      <th>Total</th>\n",
       "      <td>0.086835</td>\n",
       "      <td>0.133053</td>\n",
       "      <td>0.345938</td>\n",
       "      <td>0.424370</td>\n",
       "      <td>1.000000</td>\n",
       "    </tr>\n",
       "  </tbody>\n",
       "</table>\n",
       "</div>"
      ],
      "text/plain": [
       "         Age_12  Age_Teen  Age_Young  Age_Other     Total\n",
       "Yes    0.046218  0.054622   0.121849   0.173669  0.406162\n",
       "No     0.040616  0.078431   0.224090   0.250700  0.593838\n",
       "Total  0.086835  0.133053   0.345938   0.424370  1.000000"
      ]
     },
     "metadata": {},
     "output_type": "display_data"
    },
    {
     "data": {
      "text/html": [
       "<div>\n",
       "<style scoped>\n",
       "    .dataframe tbody tr th:only-of-type {\n",
       "        vertical-align: middle;\n",
       "    }\n",
       "\n",
       "    .dataframe tbody tr th {\n",
       "        vertical-align: top;\n",
       "    }\n",
       "\n",
       "    .dataframe thead th {\n",
       "        text-align: right;\n",
       "    }\n",
       "</style>\n",
       "<table border=\"1\" class=\"dataframe\">\n",
       "  <thead>\n",
       "    <tr style=\"text-align: right;\">\n",
       "      <th></th>\n",
       "      <th>Age_12</th>\n",
       "      <th>Age_Teen</th>\n",
       "      <th>Age_Young</th>\n",
       "      <th>Age_Other</th>\n",
       "      <th>Total</th>\n",
       "    </tr>\n",
       "  </thead>\n",
       "  <tbody>\n",
       "    <tr>\n",
       "      <th>Yes</th>\n",
       "      <td>0.113793</td>\n",
       "      <td>0.134483</td>\n",
       "      <td>0.300000</td>\n",
       "      <td>0.427586</td>\n",
       "      <td>1.0</td>\n",
       "    </tr>\n",
       "    <tr>\n",
       "      <th>No</th>\n",
       "      <td>0.068396</td>\n",
       "      <td>0.132075</td>\n",
       "      <td>0.377358</td>\n",
       "      <td>0.422170</td>\n",
       "      <td>1.0</td>\n",
       "    </tr>\n",
       "  </tbody>\n",
       "</table>\n",
       "</div>"
      ],
      "text/plain": [
       "       Age_12  Age_Teen  Age_Young  Age_Other  Total\n",
       "Yes  0.113793  0.134483   0.300000   0.427586    1.0\n",
       "No   0.068396  0.132075   0.377358   0.422170    1.0"
      ]
     },
     "metadata": {},
     "output_type": "display_data"
    }
   ],
   "source": [
    "display(P)\n",
    "display(P_AgS)\n",
    "#The Column Total of P_AgS shows that all the values of those that Survived do add up to the correct number\n",
    "#of people we know survived\n",
    "#This ensures that our data does account for all the values we were given and we have no values unsorted. \n",
    "#Whereas The Column Total in P shows that roughly 40% of people survived and 60% of people did not survive that titanic"
   ]
  },
  {
   "cell_type": "markdown",
   "metadata": {},
   "source": [
    "Compare the column TOTAL of T4_2- P(Age | Survive) P(Survive) with the column TOTAL of T2- P(). Explain:"
   ]
  },
  {
   "cell_type": "code",
   "execution_count": null,
   "metadata": {},
   "outputs": [],
   "source": []
  },
  {
   "cell_type": "markdown",
   "metadata": {
    "collapsed": true
   },
   "source": [
    "## <center> REFERENCES </center>\n",
    "List resources (book, internet page, etc.) that you used to complete this challenge."
   ]
  },
  {
   "cell_type": "markdown",
   "metadata": {},
   "source": []
  },
  {
   "cell_type": "code",
   "execution_count": null,
   "metadata": {},
   "outputs": [],
   "source": []
  }
 ],
 "metadata": {
  "kernelspec": {
   "display_name": "Python 3 (ipykernel)",
   "language": "python",
   "name": "python3"
  },
  "language_info": {
   "codemirror_mode": {
    "name": "ipython",
    "version": 3
   },
   "file_extension": ".py",
   "mimetype": "text/x-python",
   "name": "python",
   "nbconvert_exporter": "python",
   "pygments_lexer": "ipython3",
   "version": "3.9.16"
  }
 },
 "nbformat": 4,
 "nbformat_minor": 2
}
